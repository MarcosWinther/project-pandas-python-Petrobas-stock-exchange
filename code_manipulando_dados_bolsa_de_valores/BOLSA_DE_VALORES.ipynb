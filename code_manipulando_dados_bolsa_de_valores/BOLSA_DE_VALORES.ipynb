{
 "cells": [
  {
   "cell_type": "markdown",
   "id": "9c26d1d8-6c7d-46c6-af13-8b4f1aa0cfb5",
   "metadata": {},
   "source": [
    "# 👨‍💻 Projeto Bolsa de Valores 💹💰"
   ]
  },
  {
   "cell_type": "markdown",
   "id": "a382b661-626b-43ff-8f34-4b5474db4441",
   "metadata": {},
   "source": [
    "- O `yfinance` é uma biblioteca do Python usada para acessar dados financeiros do **Yahoo Finance**.\n",
    "- Com ela, você pode obter informações sobre ações, índices, moedas, fundos e outros ativos financeiros diretamente pelo código."
   ]
  },
  {
   "cell_type": "code",
   "execution_count": 1,
   "id": "5b2a0dab-4188-4110-b31b-8ecc01844c21",
   "metadata": {},
   "outputs": [
    {
     "name": "stdout",
     "output_type": "stream",
     "text": [
      "Defaulting to user installation because normal site-packages is not writeable\n",
      "Requirement already satisfied: yfinance in c:\\users\\marcos winther\\appdata\\roaming\\python\\python312\\site-packages (0.2.55)\n",
      "Requirement already satisfied: pandas>=1.3.0 in c:\\programdata\\anaconda3\\lib\\site-packages (from yfinance) (2.2.2)\n",
      "Requirement already satisfied: numpy>=1.16.5 in c:\\programdata\\anaconda3\\lib\\site-packages (from yfinance) (1.26.4)\n",
      "Requirement already satisfied: requests>=2.31 in c:\\users\\marcos winther\\appdata\\roaming\\python\\python312\\site-packages (from yfinance) (2.32.3)\n",
      "Requirement already satisfied: multitasking>=0.0.7 in c:\\users\\marcos winther\\appdata\\roaming\\python\\python312\\site-packages (from yfinance) (0.0.11)\n",
      "Requirement already satisfied: platformdirs>=2.0.0 in c:\\programdata\\anaconda3\\lib\\site-packages (from yfinance) (3.10.0)\n",
      "Requirement already satisfied: pytz>=2022.5 in c:\\programdata\\anaconda3\\lib\\site-packages (from yfinance) (2024.1)\n",
      "Requirement already satisfied: frozendict>=2.3.4 in c:\\programdata\\anaconda3\\lib\\site-packages (from yfinance) (2.4.2)\n",
      "Requirement already satisfied: peewee>=3.16.2 in c:\\users\\marcos winther\\appdata\\roaming\\python\\python312\\site-packages (from yfinance) (3.17.9)\n",
      "Requirement already satisfied: beautifulsoup4>=4.11.1 in c:\\programdata\\anaconda3\\lib\\site-packages (from yfinance) (4.12.3)\n",
      "Requirement already satisfied: soupsieve>1.2 in c:\\programdata\\anaconda3\\lib\\site-packages (from beautifulsoup4>=4.11.1->yfinance) (2.5)\n",
      "Requirement already satisfied: python-dateutil>=2.8.2 in c:\\programdata\\anaconda3\\lib\\site-packages (from pandas>=1.3.0->yfinance) (2.9.0.post0)\n",
      "Requirement already satisfied: tzdata>=2022.7 in c:\\programdata\\anaconda3\\lib\\site-packages (from pandas>=1.3.0->yfinance) (2023.3)\n",
      "Requirement already satisfied: charset-normalizer<4,>=2 in c:\\users\\marcos winther\\appdata\\roaming\\python\\python312\\site-packages (from requests>=2.31->yfinance) (3.3.2)\n",
      "Requirement already satisfied: idna<4,>=2.5 in c:\\users\\marcos winther\\appdata\\roaming\\python\\python312\\site-packages (from requests>=2.31->yfinance) (3.10)\n",
      "Requirement already satisfied: urllib3<3,>=1.21.1 in c:\\users\\marcos winther\\appdata\\roaming\\python\\python312\\site-packages (from requests>=2.31->yfinance) (2.2.3)\n",
      "Requirement already satisfied: certifi>=2017.4.17 in c:\\users\\marcos winther\\appdata\\roaming\\python\\python312\\site-packages (from requests>=2.31->yfinance) (2024.8.30)\n",
      "Requirement already satisfied: six>=1.5 in c:\\programdata\\anaconda3\\lib\\site-packages (from python-dateutil>=2.8.2->pandas>=1.3.0->yfinance) (1.16.0)\n"
     ]
    }
   ],
   "source": [
    "# Instalando a biblioteca yfinance\n",
    "!pip install yfinance"
   ]
  },
  {
   "cell_type": "code",
   "execution_count": 2,
   "id": "516343f0-28c9-45c1-b2cd-4455fc39dc4b",
   "metadata": {},
   "outputs": [],
   "source": [
    "import pandas as pd\n",
    "import yfinance as y"
   ]
  },
  {
   "cell_type": "code",
   "execution_count": 3,
   "id": "876c3064-2c0b-41e0-94de-5726bbd26936",
   "metadata": {},
   "outputs": [],
   "source": [
    "# Importando também uma biblioteca para trabalhar com gráficos\n",
    "import matplotlib.pyplot as plt"
   ]
  },
  {
   "cell_type": "code",
   "execution_count": 4,
   "id": "1cca614f-1f58-4629-8e15-df7ca62abbca",
   "metadata": {},
   "outputs": [
    {
     "name": "stdout",
     "output_type": "stream",
     "text": [
      "YF.download() has changed argument auto_adjust default to True\n"
     ]
    },
    {
     "name": "stderr",
     "output_type": "stream",
     "text": [
      "[*********************100%***********************]  1 of 1 completed\n"
     ]
    }
   ],
   "source": [
    "# Dados Bolsa de Valores da Petrobás\n",
    "df = y.download('petr4.sa', period='3y')"
   ]
  },
  {
   "cell_type": "code",
   "execution_count": 5,
   "id": "f3b46786-8b44-4c06-839a-e40bdf47b2aa",
   "metadata": {},
   "outputs": [
    {
     "data": {
      "text/html": [
       "<div>\n",
       "<style scoped>\n",
       "    .dataframe tbody tr th:only-of-type {\n",
       "        vertical-align: middle;\n",
       "    }\n",
       "\n",
       "    .dataframe tbody tr th {\n",
       "        vertical-align: top;\n",
       "    }\n",
       "\n",
       "    .dataframe thead tr th {\n",
       "        text-align: left;\n",
       "    }\n",
       "\n",
       "    .dataframe thead tr:last-of-type th {\n",
       "        text-align: right;\n",
       "    }\n",
       "</style>\n",
       "<table border=\"1\" class=\"dataframe\">\n",
       "  <thead>\n",
       "    <tr>\n",
       "      <th>Price</th>\n",
       "      <th>Close</th>\n",
       "      <th>High</th>\n",
       "      <th>Low</th>\n",
       "      <th>Open</th>\n",
       "      <th>Volume</th>\n",
       "    </tr>\n",
       "    <tr>\n",
       "      <th>Ticker</th>\n",
       "      <th>PETR4.SA</th>\n",
       "      <th>PETR4.SA</th>\n",
       "      <th>PETR4.SA</th>\n",
       "      <th>PETR4.SA</th>\n",
       "      <th>PETR4.SA</th>\n",
       "    </tr>\n",
       "    <tr>\n",
       "      <th>Date</th>\n",
       "      <th></th>\n",
       "      <th></th>\n",
       "      <th></th>\n",
       "      <th></th>\n",
       "      <th></th>\n",
       "    </tr>\n",
       "  </thead>\n",
       "  <tbody>\n",
       "    <tr>\n",
       "      <th>2022-03-28</th>\n",
       "      <td>12.433751</td>\n",
       "      <td>12.622619</td>\n",
       "      <td>12.189797</td>\n",
       "      <td>12.614749</td>\n",
       "      <td>68610500</td>\n",
       "    </tr>\n",
       "    <tr>\n",
       "      <th>2022-03-29</th>\n",
       "      <td>12.709182</td>\n",
       "      <td>12.890179</td>\n",
       "      <td>12.559662</td>\n",
       "      <td>12.642292</td>\n",
       "      <td>93809000</td>\n",
       "    </tr>\n",
       "    <tr>\n",
       "      <th>2022-03-30</th>\n",
       "      <td>12.980677</td>\n",
       "      <td>12.980677</td>\n",
       "      <td>12.740658</td>\n",
       "      <td>12.787874</td>\n",
       "      <td>69648400</td>\n",
       "    </tr>\n",
       "    <tr>\n",
       "      <th>2022-03-31</th>\n",
       "      <td>13.161674</td>\n",
       "      <td>13.208891</td>\n",
       "      <td>12.787875</td>\n",
       "      <td>12.815418</td>\n",
       "      <td>94269500</td>\n",
       "    </tr>\n",
       "    <tr>\n",
       "      <th>2022-04-01</th>\n",
       "      <td>12.988546</td>\n",
       "      <td>13.295456</td>\n",
       "      <td>12.949200</td>\n",
       "      <td>13.201022</td>\n",
       "      <td>72545400</td>\n",
       "    </tr>\n",
       "  </tbody>\n",
       "</table>\n",
       "</div>"
      ],
      "text/plain": [
       "Price           Close       High        Low       Open    Volume\n",
       "Ticker       PETR4.SA   PETR4.SA   PETR4.SA   PETR4.SA  PETR4.SA\n",
       "Date                                                            \n",
       "2022-03-28  12.433751  12.622619  12.189797  12.614749  68610500\n",
       "2022-03-29  12.709182  12.890179  12.559662  12.642292  93809000\n",
       "2022-03-30  12.980677  12.980677  12.740658  12.787874  69648400\n",
       "2022-03-31  13.161674  13.208891  12.787875  12.815418  94269500\n",
       "2022-04-01  12.988546  13.295456  12.949200  13.201022  72545400"
      ]
     },
     "execution_count": 5,
     "metadata": {},
     "output_type": "execute_result"
    }
   ],
   "source": [
    "# Pegando os 5 primeiros dados\n",
    "df.head()"
   ]
  },
  {
   "cell_type": "code",
   "execution_count": 6,
   "id": "98e7705c-2a29-4ed8-84a9-276afc0b2208",
   "metadata": {},
   "outputs": [
    {
     "data": {
      "text/html": [
       "<div>\n",
       "<style scoped>\n",
       "    .dataframe tbody tr th:only-of-type {\n",
       "        vertical-align: middle;\n",
       "    }\n",
       "\n",
       "    .dataframe tbody tr th {\n",
       "        vertical-align: top;\n",
       "    }\n",
       "\n",
       "    .dataframe thead tr th {\n",
       "        text-align: left;\n",
       "    }\n",
       "\n",
       "    .dataframe thead tr:last-of-type th {\n",
       "        text-align: right;\n",
       "    }\n",
       "</style>\n",
       "<table border=\"1\" class=\"dataframe\">\n",
       "  <thead>\n",
       "    <tr>\n",
       "      <th>Price</th>\n",
       "      <th>Close</th>\n",
       "      <th>High</th>\n",
       "      <th>Low</th>\n",
       "      <th>Open</th>\n",
       "      <th>Volume</th>\n",
       "    </tr>\n",
       "    <tr>\n",
       "      <th>Ticker</th>\n",
       "      <th>PETR4.SA</th>\n",
       "      <th>PETR4.SA</th>\n",
       "      <th>PETR4.SA</th>\n",
       "      <th>PETR4.SA</th>\n",
       "      <th>PETR4.SA</th>\n",
       "    </tr>\n",
       "    <tr>\n",
       "      <th>Date</th>\n",
       "      <th></th>\n",
       "      <th></th>\n",
       "      <th></th>\n",
       "      <th></th>\n",
       "      <th></th>\n",
       "    </tr>\n",
       "  </thead>\n",
       "  <tbody>\n",
       "    <tr>\n",
       "      <th>2025-03-21</th>\n",
       "      <td>36.799999</td>\n",
       "      <td>37.029999</td>\n",
       "      <td>36.180000</td>\n",
       "      <td>36.220001</td>\n",
       "      <td>61175700</td>\n",
       "    </tr>\n",
       "    <tr>\n",
       "      <th>2025-03-24</th>\n",
       "      <td>36.750000</td>\n",
       "      <td>36.939999</td>\n",
       "      <td>36.500000</td>\n",
       "      <td>36.700001</td>\n",
       "      <td>20348000</td>\n",
       "    </tr>\n",
       "    <tr>\n",
       "      <th>2025-03-25</th>\n",
       "      <td>37.040001</td>\n",
       "      <td>37.520000</td>\n",
       "      <td>36.630001</td>\n",
       "      <td>36.849998</td>\n",
       "      <td>28036100</td>\n",
       "    </tr>\n",
       "    <tr>\n",
       "      <th>2025-03-26</th>\n",
       "      <td>37.389999</td>\n",
       "      <td>37.630001</td>\n",
       "      <td>37.150002</td>\n",
       "      <td>37.150002</td>\n",
       "      <td>26870300</td>\n",
       "    </tr>\n",
       "    <tr>\n",
       "      <th>2025-03-27</th>\n",
       "      <td>37.849998</td>\n",
       "      <td>37.970001</td>\n",
       "      <td>37.389999</td>\n",
       "      <td>37.430000</td>\n",
       "      <td>10731900</td>\n",
       "    </tr>\n",
       "  </tbody>\n",
       "</table>\n",
       "</div>"
      ],
      "text/plain": [
       "Price           Close       High        Low       Open    Volume\n",
       "Ticker       PETR4.SA   PETR4.SA   PETR4.SA   PETR4.SA  PETR4.SA\n",
       "Date                                                            \n",
       "2025-03-21  36.799999  37.029999  36.180000  36.220001  61175700\n",
       "2025-03-24  36.750000  36.939999  36.500000  36.700001  20348000\n",
       "2025-03-25  37.040001  37.520000  36.630001  36.849998  28036100\n",
       "2025-03-26  37.389999  37.630001  37.150002  37.150002  26870300\n",
       "2025-03-27  37.849998  37.970001  37.389999  37.430000  10731900"
      ]
     },
     "execution_count": 6,
     "metadata": {},
     "output_type": "execute_result"
    }
   ],
   "source": [
    "# Pegando os 5 últimmos dados\n",
    "df.tail()"
   ]
  },
  {
   "cell_type": "code",
   "execution_count": 7,
   "id": "09b344a6-384c-465c-9cfe-5380350cdf56",
   "metadata": {},
   "outputs": [
    {
     "data": {
      "text/plain": [
       "(750, 5)"
      ]
     },
     "execution_count": 7,
     "metadata": {},
     "output_type": "execute_result"
    }
   ],
   "source": [
    "df.shape"
   ]
  },
  {
   "cell_type": "code",
   "execution_count": 8,
   "id": "58f10973-c2ac-4ecc-8a92-098b5553792e",
   "metadata": {},
   "outputs": [
    {
     "name": "stdout",
     "output_type": "stream",
     "text": [
      "<class 'pandas.core.frame.DataFrame'>\n",
      "DatetimeIndex: 750 entries, 2022-03-28 to 2025-03-27\n",
      "Data columns (total 5 columns):\n",
      " #   Column              Non-Null Count  Dtype  \n",
      "---  ------              --------------  -----  \n",
      " 0   (Close, PETR4.SA)   750 non-null    float64\n",
      " 1   (High, PETR4.SA)    750 non-null    float64\n",
      " 2   (Low, PETR4.SA)     750 non-null    float64\n",
      " 3   (Open, PETR4.SA)    750 non-null    float64\n",
      " 4   (Volume, PETR4.SA)  750 non-null    int64  \n",
      "dtypes: float64(4), int64(1)\n",
      "memory usage: 35.2 KB\n"
     ]
    }
   ],
   "source": [
    "df.info()"
   ]
  },
  {
   "cell_type": "markdown",
   "id": "7006b1bf-2e7f-46e7-b0da-257b7a6f04b6",
   "metadata": {},
   "source": [
    "---\n",
    "\n",
    "## Perguntas de Negócio:"
   ]
  },
  {
   "cell_type": "markdown",
   "id": "cc821357-4189-4630-9e54-cfb4cb418639",
   "metadata": {},
   "source": [
    "1. **Qual foi o valor de fechamento mais baixo?**"
   ]
  },
  {
   "cell_type": "code",
   "execution_count": 9,
   "id": "07804a5d-8224-4e00-be9c-3050de723678",
   "metadata": {},
   "outputs": [
    {
     "data": {
      "text/html": [
       "<div>\n",
       "<style scoped>\n",
       "    .dataframe tbody tr th:only-of-type {\n",
       "        vertical-align: middle;\n",
       "    }\n",
       "\n",
       "    .dataframe tbody tr th {\n",
       "        vertical-align: top;\n",
       "    }\n",
       "\n",
       "    .dataframe thead th {\n",
       "        text-align: right;\n",
       "    }\n",
       "</style>\n",
       "<table border=\"1\" class=\"dataframe\">\n",
       "  <thead>\n",
       "    <tr style=\"text-align: right;\">\n",
       "      <th>Ticker</th>\n",
       "      <th>PETR4.SA</th>\n",
       "    </tr>\n",
       "    <tr>\n",
       "      <th>Date</th>\n",
       "      <th></th>\n",
       "    </tr>\n",
       "  </thead>\n",
       "  <tbody>\n",
       "    <tr>\n",
       "      <th>2022-03-28</th>\n",
       "      <td>12.433751</td>\n",
       "    </tr>\n",
       "    <tr>\n",
       "      <th>2022-03-29</th>\n",
       "      <td>12.709182</td>\n",
       "    </tr>\n",
       "    <tr>\n",
       "      <th>2022-03-30</th>\n",
       "      <td>12.980677</td>\n",
       "    </tr>\n",
       "    <tr>\n",
       "      <th>2022-03-31</th>\n",
       "      <td>13.161674</td>\n",
       "    </tr>\n",
       "    <tr>\n",
       "      <th>2022-04-01</th>\n",
       "      <td>12.988546</td>\n",
       "    </tr>\n",
       "    <tr>\n",
       "      <th>2022-04-04</th>\n",
       "      <td>12.866571</td>\n",
       "    </tr>\n",
       "    <tr>\n",
       "      <th>2022-04-05</th>\n",
       "      <td>12.744592</td>\n",
       "    </tr>\n",
       "    <tr>\n",
       "      <th>2022-04-06</th>\n",
       "      <td>12.732790</td>\n",
       "    </tr>\n",
       "    <tr>\n",
       "      <th>2022-04-07</th>\n",
       "      <td>13.393825</td>\n",
       "    </tr>\n",
       "    <tr>\n",
       "      <th>2022-04-08</th>\n",
       "      <td>13.460712</td>\n",
       "    </tr>\n",
       "  </tbody>\n",
       "</table>\n",
       "</div>"
      ],
      "text/plain": [
       "Ticker       PETR4.SA\n",
       "Date                 \n",
       "2022-03-28  12.433751\n",
       "2022-03-29  12.709182\n",
       "2022-03-30  12.980677\n",
       "2022-03-31  13.161674\n",
       "2022-04-01  12.988546\n",
       "2022-04-04  12.866571\n",
       "2022-04-05  12.744592\n",
       "2022-04-06  12.732790\n",
       "2022-04-07  13.393825\n",
       "2022-04-08  13.460712"
      ]
     },
     "execution_count": 9,
     "metadata": {},
     "output_type": "execute_result"
    }
   ],
   "source": [
    "# Verificando as 10 primeiras linhas\n",
    "df['Close'].iloc[0:10]"
   ]
  },
  {
   "cell_type": "code",
   "execution_count": 10,
   "id": "4c720575-9f11-4776-ba5e-fdd1b779d80f",
   "metadata": {},
   "outputs": [
    {
     "data": {
      "text/plain": [
       "Ticker\n",
       "PETR4.SA    12.43\n",
       "dtype: float64"
      ]
     },
     "execution_count": 10,
     "metadata": {},
     "output_type": "execute_result"
    }
   ],
   "source": [
    "# Verificando o valor de fechamento mais baixo usando o método min()\n",
    "round(df['Close'].min(), 2) # Usando a função round para arrendondar o valor"
   ]
  },
  {
   "cell_type": "code",
   "execution_count": 11,
   "id": "12d023b7-c14b-4987-8037-79cada0dd484",
   "metadata": {},
   "outputs": [
    {
     "data": {
      "text/html": [
       "<div>\n",
       "<style scoped>\n",
       "    .dataframe tbody tr th:only-of-type {\n",
       "        vertical-align: middle;\n",
       "    }\n",
       "\n",
       "    .dataframe tbody tr th {\n",
       "        vertical-align: top;\n",
       "    }\n",
       "\n",
       "    .dataframe thead tr th {\n",
       "        text-align: left;\n",
       "    }\n",
       "\n",
       "    .dataframe thead tr:last-of-type th {\n",
       "        text-align: right;\n",
       "    }\n",
       "</style>\n",
       "<table border=\"1\" class=\"dataframe\">\n",
       "  <thead>\n",
       "    <tr>\n",
       "      <th>Price</th>\n",
       "      <th>Close</th>\n",
       "      <th>High</th>\n",
       "      <th>Low</th>\n",
       "      <th>Open</th>\n",
       "      <th>Volume</th>\n",
       "    </tr>\n",
       "    <tr>\n",
       "      <th>Ticker</th>\n",
       "      <th>PETR4.SA</th>\n",
       "      <th>PETR4.SA</th>\n",
       "      <th>PETR4.SA</th>\n",
       "      <th>PETR4.SA</th>\n",
       "      <th>PETR4.SA</th>\n",
       "    </tr>\n",
       "    <tr>\n",
       "      <th>Date</th>\n",
       "      <th></th>\n",
       "      <th></th>\n",
       "      <th></th>\n",
       "      <th></th>\n",
       "      <th></th>\n",
       "    </tr>\n",
       "  </thead>\n",
       "  <tbody>\n",
       "    <tr>\n",
       "      <th>2022-03-28</th>\n",
       "      <td>12.433751</td>\n",
       "      <td>12.622619</td>\n",
       "      <td>12.189797</td>\n",
       "      <td>12.614749</td>\n",
       "      <td>68610500</td>\n",
       "    </tr>\n",
       "  </tbody>\n",
       "</table>\n",
       "</div>"
      ],
      "text/plain": [
       "Price           Close       High        Low       Open    Volume\n",
       "Ticker       PETR4.SA   PETR4.SA   PETR4.SA   PETR4.SA  PETR4.SA\n",
       "Date                                                            \n",
       "2022-03-28  12.433751  12.622619  12.189797  12.614749  68610500"
      ]
     },
     "execution_count": 11,
     "metadata": {},
     "output_type": "execute_result"
    }
   ],
   "source": [
    "indice_min = df['Close'].idxmin()  # Retorna o índice do menorr valor de 'Close'\n",
    "resultado = df.loc[indice_min]  # Obtém a linha correspondente\n",
    "\n",
    "resultado"
   ]
  },
  {
   "cell_type": "markdown",
   "id": "8c693af6-1cf2-4a27-8212-3ea4c820d83c",
   "metadata": {},
   "source": [
    "<br>\n",
    "\n",
    "2. **Qual foi o valor de fechamento mais alto?**"
   ]
  },
  {
   "cell_type": "code",
   "execution_count": 12,
   "id": "1efd6fde-ba8c-4e6e-a092-6f8410b652ed",
   "metadata": {},
   "outputs": [
    {
     "data": {
      "text/plain": [
       "Ticker\n",
       "PETR4.SA    38.5\n",
       "dtype: float64"
      ]
     },
     "execution_count": 12,
     "metadata": {},
     "output_type": "execute_result"
    }
   ],
   "source": [
    "# Verificando o valor de fechamento mais alto usando o método max()\n",
    "round(df['Close'].max(), 2)"
   ]
  },
  {
   "cell_type": "code",
   "execution_count": 13,
   "id": "b53baede-0037-4c7e-a1c8-ff988afa75aa",
   "metadata": {},
   "outputs": [
    {
     "data": {
      "text/html": [
       "<div>\n",
       "<style scoped>\n",
       "    .dataframe tbody tr th:only-of-type {\n",
       "        vertical-align: middle;\n",
       "    }\n",
       "\n",
       "    .dataframe tbody tr th {\n",
       "        vertical-align: top;\n",
       "    }\n",
       "\n",
       "    .dataframe thead tr th {\n",
       "        text-align: left;\n",
       "    }\n",
       "\n",
       "    .dataframe thead tr:last-of-type th {\n",
       "        text-align: right;\n",
       "    }\n",
       "</style>\n",
       "<table border=\"1\" class=\"dataframe\">\n",
       "  <thead>\n",
       "    <tr>\n",
       "      <th>Price</th>\n",
       "      <th>Close</th>\n",
       "      <th>High</th>\n",
       "      <th>Low</th>\n",
       "      <th>Open</th>\n",
       "      <th>Volume</th>\n",
       "    </tr>\n",
       "    <tr>\n",
       "      <th>Ticker</th>\n",
       "      <th>PETR4.SA</th>\n",
       "      <th>PETR4.SA</th>\n",
       "      <th>PETR4.SA</th>\n",
       "      <th>PETR4.SA</th>\n",
       "      <th>PETR4.SA</th>\n",
       "    </tr>\n",
       "    <tr>\n",
       "      <th>Date</th>\n",
       "      <th></th>\n",
       "      <th></th>\n",
       "      <th></th>\n",
       "      <th></th>\n",
       "      <th></th>\n",
       "    </tr>\n",
       "  </thead>\n",
       "  <tbody>\n",
       "    <tr>\n",
       "      <th>2025-02-20</th>\n",
       "      <td>38.5</td>\n",
       "      <td>38.57</td>\n",
       "      <td>38.310001</td>\n",
       "      <td>38.419998</td>\n",
       "      <td>26641200</td>\n",
       "    </tr>\n",
       "  </tbody>\n",
       "</table>\n",
       "</div>"
      ],
      "text/plain": [
       "Price         Close     High        Low       Open    Volume\n",
       "Ticker     PETR4.SA PETR4.SA   PETR4.SA   PETR4.SA  PETR4.SA\n",
       "Date                                                        \n",
       "2025-02-20     38.5    38.57  38.310001  38.419998  26641200"
      ]
     },
     "execution_count": 13,
     "metadata": {},
     "output_type": "execute_result"
    }
   ],
   "source": [
    "indice_max = df['Close'].idxmax()  # Retorna o índice do maior valor de 'Close'\n",
    "resultado = df.loc[indice_max]  # Obtém a linha correspondente\n",
    "\n",
    "resultado"
   ]
  },
  {
   "cell_type": "markdown",
   "id": "c7d7ab51-e382-4883-b0f8-0d1c55bb6bf5",
   "metadata": {},
   "source": [
    "<br>\n",
    "\n",
    "3. **Qual foi o preço médio de fechamento?**"
   ]
  },
  {
   "cell_type": "code",
   "execution_count": 14,
   "id": "d49d5b92-246d-42b0-9cd5-fd2f86099e26",
   "metadata": {},
   "outputs": [
    {
     "data": {
      "text/plain": [
       "Ticker\n",
       "PETR4.SA    25.4\n",
       "dtype: float64"
      ]
     },
     "execution_count": 14,
     "metadata": {},
     "output_type": "execute_result"
    }
   ],
   "source": [
    "# Verificando o valor médio de fechamento\n",
    "round(df['Close'].mean(), 2)"
   ]
  },
  {
   "cell_type": "markdown",
   "id": "ff158df4-d0bd-429d-9d95-0f4c27183607",
   "metadata": {},
   "source": [
    "<br>\n",
    "\n",
    "4. **Qual foi a maior queda do papel dentro do período?**"
   ]
  },
  {
   "cell_type": "code",
   "execution_count": 15,
   "id": "30861471-c307-4406-a5f2-f5e256690a10",
   "metadata": {},
   "outputs": [],
   "source": [
    "# Vamos criar uma nova coluna chamado variação usando o método pct_change()\n",
    "df['Variacao'] = df['Close'].pct_change() * 100"
   ]
  },
  {
   "cell_type": "markdown",
   "id": "0416bac9-c055-47cf-86d5-5068c6b42cb7",
   "metadata": {},
   "source": [
    "- ``df['Close']``: Acessa a coluna \"Close\" do DataFrame, que provavelmente contém os preços de fechamento de um ativo financeiro (ações, criptomoedas, etc.).\n",
    "- ``.pct_change()``: Esse método calcula a variação percentual entre um valor e o valor anterior na mesma coluna.\n",
    "- ``* 100``: Multiplica o resultado por 100 para expressar a variação em porcentagem.\n",
    "- ``df['Variacao']``: Armazena os valores calculados em uma nova coluna chamada \"Variacao\"."
   ]
  },
  {
   "cell_type": "markdown",
   "id": "64977fa1-8914-4c8c-96fe-a3ec55d177b7",
   "metadata": {},
   "source": [
    "__Observação:__ O método ``.pct_change()`` do Pandas calcula a variação percentual entre os valores consecutivos de uma série ou coluna de um DataFrame."
   ]
  },
  {
   "cell_type": "code",
   "execution_count": 16,
   "id": "439a6f38-e1d2-436c-857a-37b17a16def6",
   "metadata": {},
   "outputs": [
    {
     "data": {
      "text/html": [
       "<div>\n",
       "<style scoped>\n",
       "    .dataframe tbody tr th:only-of-type {\n",
       "        vertical-align: middle;\n",
       "    }\n",
       "\n",
       "    .dataframe tbody tr th {\n",
       "        vertical-align: top;\n",
       "    }\n",
       "\n",
       "    .dataframe thead tr th {\n",
       "        text-align: left;\n",
       "    }\n",
       "\n",
       "    .dataframe thead tr:last-of-type th {\n",
       "        text-align: right;\n",
       "    }\n",
       "</style>\n",
       "<table border=\"1\" class=\"dataframe\">\n",
       "  <thead>\n",
       "    <tr>\n",
       "      <th>Price</th>\n",
       "      <th>Close</th>\n",
       "      <th>High</th>\n",
       "      <th>Low</th>\n",
       "      <th>Open</th>\n",
       "      <th>Volume</th>\n",
       "      <th>Variacao</th>\n",
       "    </tr>\n",
       "    <tr>\n",
       "      <th>Ticker</th>\n",
       "      <th>PETR4.SA</th>\n",
       "      <th>PETR4.SA</th>\n",
       "      <th>PETR4.SA</th>\n",
       "      <th>PETR4.SA</th>\n",
       "      <th>PETR4.SA</th>\n",
       "      <th></th>\n",
       "    </tr>\n",
       "    <tr>\n",
       "      <th>Date</th>\n",
       "      <th></th>\n",
       "      <th></th>\n",
       "      <th></th>\n",
       "      <th></th>\n",
       "      <th></th>\n",
       "      <th></th>\n",
       "    </tr>\n",
       "  </thead>\n",
       "  <tbody>\n",
       "    <tr>\n",
       "      <th>2022-03-28</th>\n",
       "      <td>12.433751</td>\n",
       "      <td>12.622619</td>\n",
       "      <td>12.189797</td>\n",
       "      <td>12.614749</td>\n",
       "      <td>68610500</td>\n",
       "      <td>NaN</td>\n",
       "    </tr>\n",
       "    <tr>\n",
       "      <th>2022-03-29</th>\n",
       "      <td>12.709182</td>\n",
       "      <td>12.890179</td>\n",
       "      <td>12.559662</td>\n",
       "      <td>12.642292</td>\n",
       "      <td>93809000</td>\n",
       "      <td>2.215186</td>\n",
       "    </tr>\n",
       "    <tr>\n",
       "      <th>2022-03-30</th>\n",
       "      <td>12.980677</td>\n",
       "      <td>12.980677</td>\n",
       "      <td>12.740658</td>\n",
       "      <td>12.787874</td>\n",
       "      <td>69648400</td>\n",
       "      <td>2.136210</td>\n",
       "    </tr>\n",
       "    <tr>\n",
       "      <th>2022-03-31</th>\n",
       "      <td>13.161674</td>\n",
       "      <td>13.208891</td>\n",
       "      <td>12.787875</td>\n",
       "      <td>12.815418</td>\n",
       "      <td>94269500</td>\n",
       "      <td>1.394364</td>\n",
       "    </tr>\n",
       "    <tr>\n",
       "      <th>2022-04-01</th>\n",
       "      <td>12.988546</td>\n",
       "      <td>13.295456</td>\n",
       "      <td>12.949200</td>\n",
       "      <td>13.201022</td>\n",
       "      <td>72545400</td>\n",
       "      <td>-1.315396</td>\n",
       "    </tr>\n",
       "  </tbody>\n",
       "</table>\n",
       "</div>"
      ],
      "text/plain": [
       "Price           Close       High        Low       Open    Volume  Variacao\n",
       "Ticker       PETR4.SA   PETR4.SA   PETR4.SA   PETR4.SA  PETR4.SA          \n",
       "Date                                                                      \n",
       "2022-03-28  12.433751  12.622619  12.189797  12.614749  68610500       NaN\n",
       "2022-03-29  12.709182  12.890179  12.559662  12.642292  93809000  2.215186\n",
       "2022-03-30  12.980677  12.980677  12.740658  12.787874  69648400  2.136210\n",
       "2022-03-31  13.161674  13.208891  12.787875  12.815418  94269500  1.394364\n",
       "2022-04-01  12.988546  13.295456  12.949200  13.201022  72545400 -1.315396"
      ]
     },
     "execution_count": 16,
     "metadata": {},
     "output_type": "execute_result"
    }
   ],
   "source": [
    "df.head()"
   ]
  },
  {
   "cell_type": "code",
   "execution_count": null,
   "id": "4971b940-d91e-420e-b3a2-9dcf814526e4",
   "metadata": {},
   "outputs": [],
   "source": []
  }
 ],
 "metadata": {
  "kernelspec": {
   "display_name": "Python 3 (ipykernel)",
   "language": "python",
   "name": "python3"
  },
  "language_info": {
   "codemirror_mode": {
    "name": "ipython",
    "version": 3
   },
   "file_extension": ".py",
   "mimetype": "text/x-python",
   "name": "python",
   "nbconvert_exporter": "python",
   "pygments_lexer": "ipython3",
   "version": "3.12.7"
  }
 },
 "nbformat": 4,
 "nbformat_minor": 5
}
